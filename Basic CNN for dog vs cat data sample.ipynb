{
 "cells": [
  {
   "cell_type": "code",
   "execution_count": 1,
   "id": "25957531",
   "metadata": {},
   "outputs": [],
   "source": [
    "import os \n",
    "import cv2\n",
    "import numpy as np \n",
    "from tqdm import tqdm "
   ]
  },
  {
   "cell_type": "markdown",
   "id": "b21e8a9d-d089-487f-aa82-67702c507882",
   "metadata": {},
   "source": [
    "## Data Preprocessing "
   ]
  },
  {
   "cell_type": "code",
   "execution_count": 5,
   "id": "96fc23cb",
   "metadata": {},
   "outputs": [],
   "source": [
    "REBUILD_DATA = True\n",
    "\n",
    "class DogsVSCats():\n",
    "    IMG_SIZE = 50\n",
    "    Cats = 'PetImages/Cat'\n",
    "    Dogs = \"PetImages/Dog\"\n",
    "    Labels = {Cats: 0, Dogs: 1}\n",
    "    training_data = []\n",
    "    catcount =0 \n",
    "    dogcount = 0\n",
    "    \n",
    "    def make_training_data(self):\n",
    "        for label in self.Labels:\n",
    "            print(label)\n",
    "            for f in tqdm(os.listdir(label)):\n",
    "                \n",
    "                try:\n",
    "                    path = os.path.join(label, f)\n",
    "                    img = cv2.imread(path, cv2.IMREAD_GRAYSCALE)\n",
    "                    img = cv2.resize(img, (self.IMG_SIZE, self.IMG_SIZE))\n",
    "                    self.training_data.append([np.array(img), np.eye(2)[self.Labels[label]]])\n",
    "                    if label == self.Cats:\n",
    "                        self.catcount +=1 \n",
    "                    elif label == self.Dogs:\n",
    "                        self.dogcount +=1 \n",
    "                        \n",
    "                except Exception as e:\n",
    "                    pass\n",
    "        np.random.shuffle(self.training_data)\n",
    "        np.save(\"training_data.npy\", self.training_data)\n",
    "        print(\"Cats:\", self.catcount)\n",
    "        print(\"Dogs:\", self.dogcount)              \n"
   ]
  },
  {
   "cell_type": "code",
   "execution_count": 6,
   "id": "78a09e56",
   "metadata": {},
   "outputs": [
    {
     "name": "stdout",
     "output_type": "stream",
     "text": [
      "PetImages/Cat\n"
     ]
    },
    {
     "name": "stderr",
     "output_type": "stream",
     "text": [
      " 19%|██████▉                             | 2409/12501 [00:01<00:07, 1324.44it/s]Corrupt JPEG data: 214 extraneous bytes before marker 0xd9\n",
      " 69%|████████████████████████▊           | 8620/12501 [00:06<00:03, 1175.15it/s]Corrupt JPEG data: 1153 extraneous bytes before marker 0xd9\n",
      " 75%|██████████████████████████▉         | 9336/12501 [00:07<00:02, 1164.50it/s]Corrupt JPEG data: 99 extraneous bytes before marker 0xd9\n",
      " 86%|██████████████████████████████     | 10734/12501 [00:08<00:01, 1131.50it/s]Corrupt JPEG data: 128 extraneous bytes before marker 0xd9\n",
      " 90%|███████████████████████████████▎   | 11200/12501 [00:09<00:01, 1146.94it/s]Corrupt JPEG data: 239 extraneous bytes before marker 0xd9\n",
      "100%|███████████████████████████████████| 12501/12501 [00:10<00:00, 1218.17it/s]\n"
     ]
    },
    {
     "name": "stdout",
     "output_type": "stream",
     "text": [
      "PetImages/Dog\n"
     ]
    },
    {
     "name": "stderr",
     "output_type": "stream",
     "text": [
      " 10%|███▍                                | 1195/12501 [00:01<00:10, 1085.48it/s]Corrupt JPEG data: 65 extraneous bytes before marker 0xd9\n",
      " 39%|██████████████▏                     | 4935/12501 [00:04<00:07, 1050.89it/s]Corrupt JPEG data: 226 extraneous bytes before marker 0xd9\n",
      " 55%|███████████████████▊                | 6897/12501 [00:06<00:05, 1059.24it/s]Corrupt JPEG data: 162 extraneous bytes before marker 0xd9\n",
      " 59%|█████████████████████▍              | 7430/12501 [00:06<00:04, 1049.99it/s]Warning: unknown JFIF revision number 0.00\n",
      " 74%|██████████████████████████▋         | 9279/12501 [00:08<00:02, 1087.85it/s]Corrupt JPEG data: 2230 extraneous bytes before marker 0xd9\n",
      " 84%|█████████████████████████████▎     | 10486/12501 [00:09<00:01, 1035.17it/s]Corrupt JPEG data: 254 extraneous bytes before marker 0xd9\n",
      " 91%|███████████████████████████████▊   | 11368/12501 [00:10<00:01, 1090.43it/s]Corrupt JPEG data: 399 extraneous bytes before marker 0xd9\n",
      " 97%|█████████████████████████████████▉ | 12130/12501 [00:11<00:00, 1071.80it/s]Corrupt JPEG data: 1403 extraneous bytes before marker 0xd9\n",
      "100%|███████████████████████████████████| 12501/12501 [00:11<00:00, 1068.70it/s]\n",
      "/Users/chiyum/opt/anaconda3/lib/python3.9/site-packages/numpy/core/_asarray.py:171: VisibleDeprecationWarning: Creating an ndarray from ragged nested sequences (which is a list-or-tuple of lists-or-tuples-or ndarrays with different lengths or shapes) is deprecated. If you meant to do this, you must specify 'dtype=object' when creating the ndarray.\n",
      "  return array(a, dtype, copy=False, order=order, subok=True)\n"
     ]
    },
    {
     "name": "stdout",
     "output_type": "stream",
     "text": [
      "Cats: 12476\n",
      "Dogs: 12470\n"
     ]
    }
   ],
   "source": [
    "if REBUILD_DATA:\n",
    "    dogvscats = DogsVSCats()\n",
    "    dogvscats.make_training_data()"
   ]
  },
  {
   "cell_type": "code",
   "execution_count": 7,
   "id": "c0a891c4",
   "metadata": {},
   "outputs": [],
   "source": [
    "train_data = np.load(\"training_data.npy\", allow_pickle = True)"
   ]
  },
  {
   "cell_type": "code",
   "execution_count": 8,
   "id": "09acd025",
   "metadata": {},
   "outputs": [
    {
     "name": "stdout",
     "output_type": "stream",
     "text": [
      "24946\n"
     ]
    }
   ],
   "source": [
    "print(len(train_data))"
   ]
  },
  {
   "cell_type": "code",
   "execution_count": 9,
   "id": "1931c629",
   "metadata": {},
   "outputs": [
    {
     "name": "stdout",
     "output_type": "stream",
     "text": [
      "[array([[  5,   4,   4, ...,   4,   0,  33],\n",
      "        [  4,   4,   6, ...,   2,   1,   0],\n",
      "        [  5,   3,   5, ...,   3,   3,   2],\n",
      "        ...,\n",
      "        [107, 125, 152, ...,  28,  25,  27],\n",
      "        [103, 118, 150, ...,  27,  27,  28],\n",
      "        [ 90, 114, 152, ...,  28,  26,  26]], dtype=uint8) array([1., 0.])]\n"
     ]
    }
   ],
   "source": [
    "print(train_data[1])"
   ]
  },
  {
   "cell_type": "code",
   "execution_count": 12,
   "id": "707f5a22",
   "metadata": {},
   "outputs": [
    {
     "data": {
      "text/plain": [
       "<function matplotlib.pyplot.show(close=None, block=None)>"
      ]
     },
     "execution_count": 12,
     "metadata": {},
     "output_type": "execute_result"
    },
    {
     "data": {
      "image/png": "[encoded data removed]",
      "text/plain": [
       "<Figure size 432x288 with 1 Axes>"
      ]
     },
     "metadata": {
      "needs_background": "light"
     },
     "output_type": "display_data"
    }
   ],
   "source": [
    "import matplotlib.pyplot as plt\n",
    "\n",
    "plt.imshow(train_data[0][0], \n",
    "          cmap= \"gray\")\n",
    "plt.show"
   ]
  },
  {
   "cell_type": "code",
   "execution_count": 13,
   "id": "08487d18",
   "metadata": {},
   "outputs": [
    {
     "data": {
      "text/plain": [
       "array([0., 1.])"
      ]
     },
     "execution_count": 13,
     "metadata": {},
     "output_type": "execute_result"
    }
   ],
   "source": [
    "train_data[2][1]"
   ]
  },
  {
   "cell_type": "markdown",
   "id": "d5f8f973-c74e-4652-a357-52253244b53c",
   "metadata": {},
   "source": [
    "## Implementing CNN "
   ]
  },
  {
   "cell_type": "code",
   "execution_count": 32,
   "id": "01739b5d-9190-4c0a-9b96-6a7307ba5fbd",
   "metadata": {},
   "outputs": [],
   "source": [
    "import torch \n",
    "import torch.nn as nn \n",
    "import torch.nn.functional as F\n",
    "\n",
    "class Net(nn.Module):\n",
    "    def __init__(self):\n",
    "        super().__init__()\n",
    "        # 5x5 kernel size or windows\n",
    "        self.conv1 = nn.Conv2d(1, 32, 5)\n",
    "        self.conv2 = nn.Conv2d(32, 64, 5)\n",
    "        self.conv3 = nn.Conv2d(64, 128, 5)\n",
    "        \n",
    "        x = torch.randn(50,50).view(-1,1,50,50)\n",
    "        self._to_linear = None\n",
    "        self.convs(x)\n",
    "        \n",
    "        self.fc1 = nn.Linear(self._to_linear,512)\n",
    "        self.fc2 = nn.Linear(512, 2)\n",
    "        \n",
    "    def convs(self,x):\n",
    "        x = F.max_pool2d(F.relu(self.conv1(x)),(2,2))\n",
    "        x = F.max_pool2d(F.relu(self.conv2(x)),(2,2))\n",
    "        x = F.max_pool2d(F.relu(self.conv3(x)),(2,2))        \n",
    "        # to calculate the dimension from convolution \n",
    "        if self._to_linear is None:\n",
    "            self._to_linear = x[0].shape[0]*x[0].shape[1]*x[0].shape[2]\n",
    "        return x \n",
    "    \n",
    "    def forward(self,x):\n",
    "        x = self.convs(x)\n",
    "        x = x.view(-1, self._to_linear)\n",
    "        x = F.relu(self.fc1(x))\n",
    "        x = self.fc2(x)\n",
    "        return F.softmax(x, dim = 1)\n"
   ]
  },
  {
   "cell_type": "code",
   "execution_count": 33,
   "id": "61a72f24-07a6-466b-be48-14abc39a122d",
   "metadata": {},
   "outputs": [],
   "source": [
    "net = Net()"
   ]
  },
  {
   "cell_type": "code",
   "execution_count": 34,
   "id": "424fb31d-d641-4691-8cbe-a37c425cb7e8",
   "metadata": {},
   "outputs": [
    {
     "name": "stdout",
     "output_type": "stream",
     "text": [
      "2494\n"
     ]
    }
   ],
   "source": [
    "import torch.optim as optim \n",
    "\n",
    "optimizer = optim.Adam(net.parameters(), lr = 0.001)\n",
    "loss_function = nn.MSELoss()\n",
    "\n",
    "X = torch.Tensor([i[0] for i in train_data]).view(-1, 50, 50)\n",
    "# scaling the boundary\n",
    "X = X/255.0\n",
    "y = torch.Tensor([i[1] for i in train_data])\n",
    "\n",
    "val_pct = 0.1 \n",
    "val_size = int(len(X)*val_pct)\n",
    "print(val_size)"
   ]
  },
  {
   "cell_type": "code",
   "execution_count": 35,
   "id": "95613462-5a11-4dc2-94b6-7bf897a5b3bc",
   "metadata": {},
   "outputs": [
    {
     "name": "stdout",
     "output_type": "stream",
     "text": [
      "22452\n",
      "2494\n"
     ]
    }
   ],
   "source": [
    "train_X = X[:-val_size]\n",
    "train_y = y[:-val_size]\n",
    "\n",
    "test_X = X[-val_size:]\n",
    "test_y = y[-val_size:]\n",
    "\n",
    "print(len(train_X))\n",
    "print(len(test_X))"
   ]
  },
  {
   "cell_type": "code",
   "execution_count": 37,
   "id": "fdffc8a1-bbd8-495e-b175-85dcd1f02626",
   "metadata": {},
   "outputs": [
    {
     "name": "stderr",
     "output_type": "stream",
     "text": [
      "100%|█████████████████████████████████████████| 225/225 [01:52<00:00,  2.01it/s]"
     ]
    },
    {
     "name": "stdout",
     "output_type": "stream",
     "text": [
      "tensor(0.1519, grad_fn=<MseLossBackward0>)\n"
     ]
    },
    {
     "name": "stderr",
     "output_type": "stream",
     "text": [
      "\n"
     ]
    }
   ],
   "source": [
    "# lower down the batch size if hitting a memory error \n",
    "BATCH_SIZE = 100\n",
    "epochs = 1\n",
    "\n",
    "for epoch in range(epochs):\n",
    "    for i in tqdm(range(0, len(train_X), BATCH_SIZE)):\n",
    "        #print(i, i+BATCH_SIZE)\n",
    "        batch_x = train_X[i:i+BATCH_SIZE].view(-1, 1, 50,50)\n",
    "        batch_y = train_y[i:i+BATCH_SIZE]\n",
    "        net.zero_grad()\n",
    "        outputs = net(batch_x)\n",
    "        loss = loss_function(outputs, batch_y)\n",
    "        loss.backward()\n",
    "        optimizer.step()\n",
    "print(loss)"
   ]
  },
  {
   "cell_type": "code",
   "execution_count": 38,
   "id": "deb6144f-1eeb-4da0-9e53-c0d216e4ef9f",
   "metadata": {},
   "outputs": [
    {
     "name": "stderr",
     "output_type": "stream",
     "text": [
      "100%|██████████████████████████████████████| 2494/2494 [00:04<00:00, 543.06it/s]"
     ]
    },
    {
     "name": "stdout",
     "output_type": "stream",
     "text": [
      "Accuracy: 0.743\n"
     ]
    },
    {
     "name": "stderr",
     "output_type": "stream",
     "text": [
      "\n"
     ]
    }
   ],
   "source": [
    "correct = 0\n",
    "total = 0 \n",
    "with torch.no_grad():\n",
    "    for i in tqdm(range(len(test_X))):\n",
    "                  real = torch.argmax(test_y[i])\n",
    "                  out = net(test_X[i].view(-1, 1, 50, 50))[0]\n",
    "                  predicted = torch.argmax(out)\n",
    "                  if predicted == real:\n",
    "                      correct +=1 \n",
    "                  total +=1 \n",
    "print(\"Accuracy:\", round(correct/total, 3))"
   ]
  },
  {
   "cell_type": "code",
   "execution_count": 39,
   "id": "524ba23f-7f33-490e-ba56-cfc00dbb87ed",
   "metadata": {},
   "outputs": [
    {
     "data": {
      "text/plain": [
       "False"
      ]
     },
     "execution_count": 39,
     "metadata": {},
     "output_type": "execute_result"
    }
   ],
   "source": [
    "torch.cuda.is_available()"
   ]
  }
 ],
 "metadata": {
  "kernelspec": {
   "display_name": "Python 3 (ipykernel)",
   "language": "python",
   "name": "python3"
  },
  "language_info": {
   "codemirror_mode": {
    "name": "ipython",
    "version": 3
   },
   "file_extension": ".py",
   "mimetype": "text/x-python",
   "name": "python",
   "nbconvert_exporter": "python",
   "pygments_lexer": "ipython3",
   "version": "3.9.7"
  }
 },
 "nbformat": 4,
 "nbformat_minor": 5
}
